{
 "cells": [
  {
   "cell_type": "markdown",
   "metadata": {},
   "source": [
    "# Before your start:\n",
    "\n",
    "    Read the README.md file\n",
    "    Comment as much as you can and use the resources (README.md file)\n",
    "    Happy learning!"
   ]
  },
  {
   "cell_type": "markdown",
   "metadata": {},
   "source": [
    "In this exercise, we  will generate random numbers from the continuous disributions we learned in the lesson. There are two ways to generate random numbers:\n",
    "\n",
    "1. Using the numpy library \n",
    "1. using the Scipy library \n",
    "\n",
    "Use either or both of the lbraries in this exercise."
   ]
  },
  {
   "cell_type": "markdown",
   "metadata": {},
   "source": [
    "## Uniform Distribution\n",
    "\n",
    "To generate uniform random numbers between any two given values using scipy, we can either use the following code or the code that we have\n",
    "discussed in class:"
   ]
  },
  {
   "cell_type": "code",
   "execution_count": 7,
   "metadata": {},
   "outputs": [
    {
     "name": "stdout",
     "output_type": "stream",
     "text": [
      "[2.1237536  2.26658038 2.35409664 2.51723004 2.208723   2.73214678\n",
      " 2.62860677 2.07293455 2.03390724 2.43169915]\n"
     ]
    }
   ],
   "source": [
    "from scipy.stats import uniform\n",
    "x = uniform.rvs(size=10)\n",
    "a = 2\n",
    "b = 3\n",
    "randoms  = a + (b-a)*x\n",
    "print(randoms)"
   ]
  },
  {
   "cell_type": "markdown",
   "metadata": {},
   "source": [
    "**Your task:**\n",
    "\n",
    "1. Based on the code above, write a function that generates uniformly distributed random numbers. There are several requirements for your function:\n",
    "    * It should accept 3 parameters: \n",
    "        * `bottom` - the lower boundary of the generated numbers\n",
    "        * `ceiling` - the upper boundary of the generated numbers\n",
    "        * `count` - how many numbers to generate\n",
    "    * It should return an array of uniformly distributed random numbers\n",
    "\n",
    "1. Call your function with 2 sets of params below:\n",
    "    * bottom=10, ceiling=15, count=100\n",
    "    * bottom=10, ceiling=60, count=1,000\n",
    "\n",
    "1. Plot the uniform distributions generated above using histograms, where x axis is the value and y axis is the count. Let the histogram's number of bins be 10.\n",
    "\n",
    "Your output should look like below:\n",
    "\n",
    "![uniform distribution](ud.png)"
   ]
  },
  {
   "cell_type": "code",
   "execution_count": 8,
   "metadata": {},
   "outputs": [],
   "source": [
    "# your code here\n",
    "import matplotlib.pyplot as plt\n",
    "%matplotlib inline\n",
    "\n",
    "def y(count,bottom,ceiling) :\n",
    "    x = uniform.rvs(size=count)\n",
    "    return (bottom + (ceiling - bottom) * x)"
   ]
  },
  {
   "cell_type": "code",
   "execution_count": 9,
   "metadata": {},
   "outputs": [
    {
     "data": {
      "text/plain": [
       "(array([109., 100.,  99.,  89.,  85., 113.,  83., 121., 101., 100.]),\n",
       " array([10.04803006, 15.03568034, 20.02333062, 25.0109809 , 29.99863118,\n",
       "        34.98628146, 39.97393174, 44.96158202, 49.9492323 , 54.93688258,\n",
       "        59.92453286]),\n",
       " <a list of 10 Patch objects>)"
      ]
     },
     "execution_count": 9,
     "metadata": {},
     "output_type": "execute_result"
    },
    {
     "data": {
      "image/png": "[encoded data removed]",
      "text/plain": [
       "<Figure size 432x288 with 2 Axes>"
      ]
     },
     "metadata": {
      "needs_background": "light"
     },
     "output_type": "display_data"
    }
   ],
   "source": [
    "fig, (g1,g2) = plt.subplots(1, 2, sharey=True)\n",
    "g1.hist(y(100,10,15))\n",
    "g2.hist(y(1000,10,60))"
   ]
  },
  {
   "cell_type": "markdown",
   "metadata": {},
   "source": [
    "How are the two distributions different?"
   ]
  },
  {
   "cell_type": "code",
   "execution_count": 10,
   "metadata": {},
   "outputs": [
    {
     "data": {
      "text/plain": [
       "\"\\nThe two distributions are different in the range of x, the one on the right has a wider range because it has a higher\\nceiling (60 vs 15).\\nThey're also different in the y range because they have different counts, that means different frequency of events\\n(100 vs 1000).\\n\""
      ]
     },
     "execution_count": 10,
     "metadata": {},
     "output_type": "execute_result"
    }
   ],
   "source": [
    "# your answer here\n",
    "\"\"\"\n",
    "The two distributions are different in the range of x, the one on the right has a wider range because it has a higher\n",
    "ceiling (60 vs 15).\n",
    "They're also different in the y range because they have different counts, that means different frequency of events\n",
    "(100 vs 1000).\n",
    "\"\"\""
   ]
  },
  {
   "cell_type": "markdown",
   "metadata": {},
   "source": [
    "## Normal Distribution\n",
    "\n",
    "1. In the same way in the Uniform Distribution challenge, write a function that generates normally distributed random numbers.\n",
    "1. Generate 1,000 normally distributed numbers with the average of 10 and standard deviation of 1\n",
    "1. Generate 1,000 normally distributed numbers with the average of 10 and standard deviation of 50\n",
    "2. Plot the distributions of the data generated.\n",
    "\n",
    "Expected output:\n",
    "\n",
    "![normal distribution](nd.png)"
   ]
  },
  {
   "cell_type": "code",
   "execution_count": 11,
   "metadata": {},
   "outputs": [
    {
     "data": {
      "text/plain": [
       "(array([ 1.,  1.,  2.,  2.,  0.,  5.,  4.,  4.,  4., 11., 15., 16., 21.,\n",
       "        19., 28., 28., 33., 46., 51., 61., 63., 49., 44., 57., 64., 44.,\n",
       "        53., 44., 39., 33., 39., 17., 26., 15., 17., 14.,  7.,  3.,  3.,\n",
       "         7.,  2.,  2.,  3.,  0.,  1.,  1.,  0.,  0.,  0.,  1.]),\n",
       " array([-148.10593911, -141.12426269, -134.14258627, -127.16090985,\n",
       "        -120.17923343, -113.19755701, -106.21588059,  -99.23420417,\n",
       "         -92.25252774,  -85.27085132,  -78.2891749 ,  -71.30749848,\n",
       "         -64.32582206,  -57.34414564,  -50.36246922,  -43.3807928 ,\n",
       "         -36.39911638,  -29.41743996,  -22.43576354,  -15.45408712,\n",
       "          -8.4724107 ,   -1.49073428,    5.49094214,   12.47261857,\n",
       "          19.45429499,   26.43597141,   33.41764783,   40.39932425,\n",
       "          47.38100067,   54.36267709,   61.34435351,   68.32602993,\n",
       "          75.30770635,   82.28938277,   89.27105919,   96.25273561,\n",
       "         103.23441203,  110.21608846,  117.19776488,  124.1794413 ,\n",
       "         131.16111772,  138.14279414,  145.12447056,  152.10614698,\n",
       "         159.0878234 ,  166.06949982,  173.05117624,  180.03285266,\n",
       "         187.01452908,  193.9962055 ,  200.97788192]),\n",
       " <a list of 50 Patch objects>)"
      ]
     },
     "execution_count": 11,
     "metadata": {},
     "output_type": "execute_result"
    },
    {
     "data": {
      "image/png": "[encoded data removed]",
      "text/plain": [
       "<Figure size 432x288 with 2 Axes>"
      ]
     },
     "metadata": {
      "needs_background": "light"
     },
     "output_type": "display_data"
    }
   ],
   "source": [
    "from scipy.stats import norm\n",
    "\n",
    "def y(x,mean,std) :\n",
    "    v = norm(mean, std)\n",
    "    return v.rvs(x)\n",
    "\n",
    "fig, (g3,g4) = plt.subplots(1, 2, sharey=True)\n",
    "g3.hist(y(1000,10,1), bins=50)\n",
    "g4.hist(y(1000,10,50), bins=50)"
   ]
  },
  {
   "cell_type": "code",
   "execution_count": 12,
   "metadata": {},
   "outputs": [
    {
     "data": {
      "text/plain": [
       "'\\ndef y(value,mean,std) :\\n    x = norm.rvs(size=value)\\n    return (norm.pdf(x, mean, std))\\n'"
      ]
     },
     "execution_count": 12,
     "metadata": {},
     "output_type": "execute_result"
    }
   ],
   "source": [
    "\"\"\"\n",
    "def y(value,mean,std) :\n",
    "    x = norm.rvs(size=value)\n",
    "    return (norm.pdf(x, mean, std))\n",
    "\"\"\""
   ]
  },
  {
   "cell_type": "markdown",
   "metadata": {},
   "source": [
    "How are the two distributions different?"
   ]
  },
  {
   "cell_type": "code",
   "execution_count": 13,
   "metadata": {},
   "outputs": [
    {
     "data": {
      "text/plain": [
       "'\\nThe distribution on the left is more evenly distributed because the standard deviation is small (1).\\nOn the right one the range of x is wider because the std is bigger (50) and the distribution has some other peaks.\\n'"
      ]
     },
     "execution_count": 13,
     "metadata": {},
     "output_type": "execute_result"
    }
   ],
   "source": [
    "# your answer here:\n",
    "\"\"\"\n",
    "The distribution on the left is more evenly distributed because the standard deviation is small (1).\n",
    "On the right one the range of x is wider because the std is bigger (50) and the distribution has some other peaks.\n",
    "\"\"\""
   ]
  },
  {
   "cell_type": "markdown",
   "metadata": {},
   "source": [
    "## Normal Distribution of Real Data\n",
    "\n",
    "In this challenge we are going to take a look the real data. We will use vehicles.csv file for this exercise"
   ]
  },
  {
   "cell_type": "markdown",
   "metadata": {},
   "source": [
    "First import vehicles.csv.\n",
    "Then plot the histograms for the following variables:\n",
    "\n",
    "1. Fuel Barrels/Year"
   ]
  },
  {
   "cell_type": "code",
   "execution_count": 14,
   "metadata": {},
   "outputs": [
    {
     "data": {
      "text/html": [
       "<div>\n",
       "<style scoped>\n",
       "    .dataframe tbody tr th:only-of-type {\n",
       "        vertical-align: middle;\n",
       "    }\n",
       "\n",
       "    .dataframe tbody tr th {\n",
       "        vertical-align: top;\n",
       "    }\n",
       "\n",
       "    .dataframe thead th {\n",
       "        text-align: right;\n",
       "    }\n",
       "</style>\n",
       "<table border=\"1\" class=\"dataframe\">\n",
       "  <thead>\n",
       "    <tr style=\"text-align: right;\">\n",
       "      <th></th>\n",
       "      <th>Make</th>\n",
       "      <th>Model</th>\n",
       "      <th>Year</th>\n",
       "      <th>Engine Displacement</th>\n",
       "      <th>Cylinders</th>\n",
       "      <th>Transmission</th>\n",
       "      <th>Drivetrain</th>\n",
       "      <th>Vehicle Class</th>\n",
       "      <th>Fuel Type</th>\n",
       "      <th>Fuel Barrels/Year</th>\n",
       "      <th>City MPG</th>\n",
       "      <th>Highway MPG</th>\n",
       "      <th>Combined MPG</th>\n",
       "      <th>CO2 Emission Grams/Mile</th>\n",
       "      <th>Fuel Cost/Year</th>\n",
       "    </tr>\n",
       "  </thead>\n",
       "  <tbody>\n",
       "    <tr>\n",
       "      <td>0</td>\n",
       "      <td>AM General</td>\n",
       "      <td>DJ Po Vehicle 2WD</td>\n",
       "      <td>1984</td>\n",
       "      <td>2.5</td>\n",
       "      <td>4.0</td>\n",
       "      <td>Automatic 3-spd</td>\n",
       "      <td>2-Wheel Drive</td>\n",
       "      <td>Special Purpose Vehicle 2WD</td>\n",
       "      <td>Regular</td>\n",
       "      <td>19.388824</td>\n",
       "      <td>18</td>\n",
       "      <td>17</td>\n",
       "      <td>17</td>\n",
       "      <td>522.764706</td>\n",
       "      <td>1950</td>\n",
       "    </tr>\n",
       "    <tr>\n",
       "      <td>1</td>\n",
       "      <td>AM General</td>\n",
       "      <td>FJ8c Post Office</td>\n",
       "      <td>1984</td>\n",
       "      <td>4.2</td>\n",
       "      <td>6.0</td>\n",
       "      <td>Automatic 3-spd</td>\n",
       "      <td>2-Wheel Drive</td>\n",
       "      <td>Special Purpose Vehicle 2WD</td>\n",
       "      <td>Regular</td>\n",
       "      <td>25.354615</td>\n",
       "      <td>13</td>\n",
       "      <td>13</td>\n",
       "      <td>13</td>\n",
       "      <td>683.615385</td>\n",
       "      <td>2550</td>\n",
       "    </tr>\n",
       "    <tr>\n",
       "      <td>2</td>\n",
       "      <td>AM General</td>\n",
       "      <td>Post Office DJ5 2WD</td>\n",
       "      <td>1985</td>\n",
       "      <td>2.5</td>\n",
       "      <td>4.0</td>\n",
       "      <td>Automatic 3-spd</td>\n",
       "      <td>Rear-Wheel Drive</td>\n",
       "      <td>Special Purpose Vehicle 2WD</td>\n",
       "      <td>Regular</td>\n",
       "      <td>20.600625</td>\n",
       "      <td>16</td>\n",
       "      <td>17</td>\n",
       "      <td>16</td>\n",
       "      <td>555.437500</td>\n",
       "      <td>2100</td>\n",
       "    </tr>\n",
       "    <tr>\n",
       "      <td>3</td>\n",
       "      <td>AM General</td>\n",
       "      <td>Post Office DJ8 2WD</td>\n",
       "      <td>1985</td>\n",
       "      <td>4.2</td>\n",
       "      <td>6.0</td>\n",
       "      <td>Automatic 3-spd</td>\n",
       "      <td>Rear-Wheel Drive</td>\n",
       "      <td>Special Purpose Vehicle 2WD</td>\n",
       "      <td>Regular</td>\n",
       "      <td>25.354615</td>\n",
       "      <td>13</td>\n",
       "      <td>13</td>\n",
       "      <td>13</td>\n",
       "      <td>683.615385</td>\n",
       "      <td>2550</td>\n",
       "    </tr>\n",
       "    <tr>\n",
       "      <td>4</td>\n",
       "      <td>ASC Incorporated</td>\n",
       "      <td>GNX</td>\n",
       "      <td>1987</td>\n",
       "      <td>3.8</td>\n",
       "      <td>6.0</td>\n",
       "      <td>Automatic 4-spd</td>\n",
       "      <td>Rear-Wheel Drive</td>\n",
       "      <td>Midsize Cars</td>\n",
       "      <td>Premium</td>\n",
       "      <td>20.600625</td>\n",
       "      <td>14</td>\n",
       "      <td>21</td>\n",
       "      <td>16</td>\n",
       "      <td>555.437500</td>\n",
       "      <td>2550</td>\n",
       "    </tr>\n",
       "  </tbody>\n",
       "</table>\n",
       "</div>"
      ],
      "text/plain": [
       "               Make                Model  Year  Engine Displacement  \\\n",
       "0        AM General    DJ Po Vehicle 2WD  1984                  2.5   \n",
       "1        AM General     FJ8c Post Office  1984                  4.2   \n",
       "2        AM General  Post Office DJ5 2WD  1985                  2.5   \n",
       "3        AM General  Post Office DJ8 2WD  1985                  4.2   \n",
       "4  ASC Incorporated                  GNX  1987                  3.8   \n",
       "\n",
       "   Cylinders     Transmission        Drivetrain                Vehicle Class  \\\n",
       "0        4.0  Automatic 3-spd     2-Wheel Drive  Special Purpose Vehicle 2WD   \n",
       "1        6.0  Automatic 3-spd     2-Wheel Drive  Special Purpose Vehicle 2WD   \n",
       "2        4.0  Automatic 3-spd  Rear-Wheel Drive  Special Purpose Vehicle 2WD   \n",
       "3        6.0  Automatic 3-spd  Rear-Wheel Drive  Special Purpose Vehicle 2WD   \n",
       "4        6.0  Automatic 4-spd  Rear-Wheel Drive                 Midsize Cars   \n",
       "\n",
       "  Fuel Type  Fuel Barrels/Year  City MPG  Highway MPG  Combined MPG  \\\n",
       "0   Regular          19.388824        18           17            17   \n",
       "1   Regular          25.354615        13           13            13   \n",
       "2   Regular          20.600625        16           17            16   \n",
       "3   Regular          25.354615        13           13            13   \n",
       "4   Premium          20.600625        14           21            16   \n",
       "\n",
       "   CO2 Emission Grams/Mile  Fuel Cost/Year  \n",
       "0               522.764706            1950  \n",
       "1               683.615385            2550  \n",
       "2               555.437500            2100  \n",
       "3               683.615385            2550  \n",
       "4               555.437500            2550  "
      ]
     },
     "execution_count": 14,
     "metadata": {},
     "output_type": "execute_result"
    }
   ],
   "source": [
    "# your code here\n",
    "import pandas as pd\n",
    "vehicles = pd.read_csv('vehicles.csv')\n",
    "vehicles.head()"
   ]
  },
  {
   "cell_type": "code",
   "execution_count": 28,
   "metadata": {},
   "outputs": [
    {
     "data": {
      "text/plain": [
       "<matplotlib.axes._subplots.AxesSubplot at 0x214ae400fc8>"
      ]
     },
     "execution_count": 28,
     "metadata": {},
     "output_type": "execute_result"
    },
    {
     "data": {
      "image/png": "[encoded data removed]",
      "text/plain": [
       "<Figure size 432x288 with 1 Axes>"
      ]
     },
     "metadata": {
      "needs_background": "light"
     },
     "output_type": "display_data"
    }
   ],
   "source": [
    "vehicles['Fuel Barrels/Year'].hist(bins=50)"
   ]
  },
  {
   "cell_type": "markdown",
   "metadata": {},
   "source": [
    "2. CO2 Emission Grams/Mile "
   ]
  },
  {
   "cell_type": "code",
   "execution_count": 29,
   "metadata": {},
   "outputs": [
    {
     "data": {
      "text/plain": [
       "<matplotlib.axes._subplots.AxesSubplot at 0x214ae48c048>"
      ]
     },
     "execution_count": 29,
     "metadata": {},
     "output_type": "execute_result"
    },
    {
     "data": {
      "image/png": "[encoded data removed]",
      "text/plain": [
       "<Figure size 432x288 with 1 Axes>"
      ]
     },
     "metadata": {
      "needs_background": "light"
     },
     "output_type": "display_data"
    }
   ],
   "source": [
    "# your code here\n",
    "vehicles['CO2 Emission Grams/Mile'].hist(bins=50)"
   ]
  },
  {
   "cell_type": "markdown",
   "metadata": {},
   "source": [
    "3. Combined MPG"
   ]
  },
  {
   "cell_type": "code",
   "execution_count": 30,
   "metadata": {},
   "outputs": [
    {
     "data": {
      "text/plain": [
       "<matplotlib.axes._subplots.AxesSubplot at 0x214ae58e888>"
      ]
     },
     "execution_count": 30,
     "metadata": {},
     "output_type": "execute_result"
    },
    {
     "data": {
      "image/png": "[encoded data removed]",
      "text/plain": [
       "<Figure size 432x288 with 1 Axes>"
      ]
     },
     "metadata": {
      "needs_background": "light"
     },
     "output_type": "display_data"
    }
   ],
   "source": [
    "# your code here\n",
    "vehicles['Combined MPG'].hist(bins=50)"
   ]
  },
  {
   "cell_type": "markdown",
   "metadata": {},
   "source": [
    "Which one(s) of the variables are nearly normally distributed? How do you know?"
   ]
  },
  {
   "cell_type": "code",
   "execution_count": 18,
   "metadata": {},
   "outputs": [
    {
     "data": {
      "text/plain": [
       "'\\nThe 3 variables have a very similar distribution and it seems like a normal distribution due to the centered bell shape.\\nTo confirm that it would be ncessary to determin if\\n'"
      ]
     },
     "execution_count": 18,
     "metadata": {},
     "output_type": "execute_result"
    }
   ],
   "source": [
    "# you answer here\n",
    "\"\"\"\n",
    "The first two variables have a similar distribution and it looks like a normal distribution due to the bell shape centered\n",
    "in the mean and widen by the standard deviation (see describe statistics below).\n",
    "The last one doesn't look like a normal distribution because although is has a bell shape as well, it is not centered at\n",
    "the mean, it is actually right skewed.\n",
    "\"\"\""
   ]
  },
  {
   "cell_type": "code",
   "execution_count": 26,
   "metadata": {},
   "outputs": [
    {
     "data": {
      "text/html": [
       "<div>\n",
       "<style scoped>\n",
       "    .dataframe tbody tr th:only-of-type {\n",
       "        vertical-align: middle;\n",
       "    }\n",
       "\n",
       "    .dataframe tbody tr th {\n",
       "        vertical-align: top;\n",
       "    }\n",
       "\n",
       "    .dataframe thead th {\n",
       "        text-align: right;\n",
       "    }\n",
       "</style>\n",
       "<table border=\"1\" class=\"dataframe\">\n",
       "  <thead>\n",
       "    <tr style=\"text-align: right;\">\n",
       "      <th></th>\n",
       "      <th>Fuel Barrels/Year</th>\n",
       "      <th>CO2 Emission Grams/Mile</th>\n",
       "      <th>Combined MPG</th>\n",
       "    </tr>\n",
       "  </thead>\n",
       "  <tbody>\n",
       "    <tr>\n",
       "      <td>count</td>\n",
       "      <td>35952.000000</td>\n",
       "      <td>35952.000000</td>\n",
       "      <td>35952.000000</td>\n",
       "    </tr>\n",
       "    <tr>\n",
       "      <td>mean</td>\n",
       "      <td>17.609056</td>\n",
       "      <td>475.316339</td>\n",
       "      <td>19.929322</td>\n",
       "    </tr>\n",
       "    <tr>\n",
       "      <td>std</td>\n",
       "      <td>4.467283</td>\n",
       "      <td>119.060773</td>\n",
       "      <td>5.112409</td>\n",
       "    </tr>\n",
       "    <tr>\n",
       "      <td>min</td>\n",
       "      <td>0.060000</td>\n",
       "      <td>37.000000</td>\n",
       "      <td>7.000000</td>\n",
       "    </tr>\n",
       "    <tr>\n",
       "      <td>25%</td>\n",
       "      <td>14.699423</td>\n",
       "      <td>395.000000</td>\n",
       "      <td>16.000000</td>\n",
       "    </tr>\n",
       "    <tr>\n",
       "      <td>50%</td>\n",
       "      <td>17.347895</td>\n",
       "      <td>467.736842</td>\n",
       "      <td>19.000000</td>\n",
       "    </tr>\n",
       "    <tr>\n",
       "      <td>75%</td>\n",
       "      <td>20.600625</td>\n",
       "      <td>555.437500</td>\n",
       "      <td>23.000000</td>\n",
       "    </tr>\n",
       "    <tr>\n",
       "      <td>max</td>\n",
       "      <td>47.087143</td>\n",
       "      <td>1269.571429</td>\n",
       "      <td>56.000000</td>\n",
       "    </tr>\n",
       "  </tbody>\n",
       "</table>\n",
       "</div>"
      ],
      "text/plain": [
       "       Fuel Barrels/Year  CO2 Emission Grams/Mile  Combined MPG\n",
       "count       35952.000000             35952.000000  35952.000000\n",
       "mean           17.609056               475.316339     19.929322\n",
       "std             4.467283               119.060773      5.112409\n",
       "min             0.060000                37.000000      7.000000\n",
       "25%            14.699423               395.000000     16.000000\n",
       "50%            17.347895               467.736842     19.000000\n",
       "75%            20.600625               555.437500     23.000000\n",
       "max            47.087143              1269.571429     56.000000"
      ]
     },
     "execution_count": 26,
     "metadata": {},
     "output_type": "execute_result"
    }
   ],
   "source": [
    "vehicles[['Fuel Barrels/Year','CO2 Emission Grams/Mile', 'Combined MPG']].describe()"
   ]
  },
  {
   "cell_type": "markdown",
   "metadata": {},
   "source": [
    "## Exponential Distribution"
   ]
  },
  {
   "cell_type": "markdown",
   "metadata": {},
   "source": [
    "1. Using `numpy.random.exponential`, create a function that returns a list of numbers exponentially distributed with the mean of 10. \n",
    "\n",
    "1. Use the function to generate two number sequences with a mean of 1 and 100 and a size of 1000.\n",
    "\n",
    "1. Plot the distributions as histograms with the number of bins as 100.\n",
    "\n",
    "Your output should look like below:\n",
    "\n",
    "![exponential distribution](ed.png)"
   ]
  },
  {
   "cell_type": "code",
   "execution_count": 24,
   "metadata": {},
   "outputs": [
    {
     "data": {
      "text/plain": [
       "(array([71., 66., 60., 48., 49., 44., 29., 33., 44., 36., 29., 40., 31.,\n",
       "        30., 31., 25., 18., 22., 14., 16., 13., 16., 24., 13., 17., 10.,\n",
       "        15.,  9., 11., 10.,  8.,  2.,  9.,  8.,  4.,  1.,  7.,  4., 11.,\n",
       "         5.,  3.,  6.,  4.,  0.,  3.,  5.,  1.,  2.,  1.,  1.,  3.,  3.,\n",
       "         3.,  2.,  0.,  1.,  0.,  1.,  1.,  1.,  0.,  3.,  3.,  4.,  1.,\n",
       "         1.,  1.,  0.,  0.,  0.,  1.,  1.,  0.,  3.,  0.,  0.,  0.,  1.,\n",
       "         0.,  2.,  1.,  0.,  0.,  0.,  0.,  0.,  1.,  0.,  2.,  0.,  0.,\n",
       "         0.,  0.,  0.,  0.,  0.,  0.,  0.,  0.,  1.]),\n",
       " array([1.58656481e-01, 6.48574372e+00, 1.28128310e+01, 1.91399182e+01,\n",
       "        2.54670054e+01, 3.17940927e+01, 3.81211799e+01, 4.44482671e+01,\n",
       "        5.07753544e+01, 5.71024416e+01, 6.34295288e+01, 6.97566161e+01,\n",
       "        7.60837033e+01, 8.24107905e+01, 8.87378778e+01, 9.50649650e+01,\n",
       "        1.01392052e+02, 1.07719139e+02, 1.14046227e+02, 1.20373314e+02,\n",
       "        1.26700401e+02, 1.33027488e+02, 1.39354576e+02, 1.45681663e+02,\n",
       "        1.52008750e+02, 1.58335837e+02, 1.64662925e+02, 1.70990012e+02,\n",
       "        1.77317099e+02, 1.83644186e+02, 1.89971274e+02, 1.96298361e+02,\n",
       "        2.02625448e+02, 2.08952535e+02, 2.15279622e+02, 2.21606710e+02,\n",
       "        2.27933797e+02, 2.34260884e+02, 2.40587971e+02, 2.46915059e+02,\n",
       "        2.53242146e+02, 2.59569233e+02, 2.65896320e+02, 2.72223408e+02,\n",
       "        2.78550495e+02, 2.84877582e+02, 2.91204669e+02, 2.97531757e+02,\n",
       "        3.03858844e+02, 3.10185931e+02, 3.16513018e+02, 3.22840106e+02,\n",
       "        3.29167193e+02, 3.35494280e+02, 3.41821367e+02, 3.48148454e+02,\n",
       "        3.54475542e+02, 3.60802629e+02, 3.67129716e+02, 3.73456803e+02,\n",
       "        3.79783891e+02, 3.86110978e+02, 3.92438065e+02, 3.98765152e+02,\n",
       "        4.05092240e+02, 4.11419327e+02, 4.17746414e+02, 4.24073501e+02,\n",
       "        4.30400589e+02, 4.36727676e+02, 4.43054763e+02, 4.49381850e+02,\n",
       "        4.55708937e+02, 4.62036025e+02, 4.68363112e+02, 4.74690199e+02,\n",
       "        4.81017286e+02, 4.87344374e+02, 4.93671461e+02, 4.99998548e+02,\n",
       "        5.06325635e+02, 5.12652723e+02, 5.18979810e+02, 5.25306897e+02,\n",
       "        5.31633984e+02, 5.37961072e+02, 5.44288159e+02, 5.50615246e+02,\n",
       "        5.56942333e+02, 5.63269420e+02, 5.69596508e+02, 5.75923595e+02,\n",
       "        5.82250682e+02, 5.88577769e+02, 5.94904857e+02, 6.01231944e+02,\n",
       "        6.07559031e+02, 6.13886118e+02, 6.20213206e+02, 6.26540293e+02,\n",
       "        6.32867380e+02]),\n",
       " <a list of 100 Patch objects>)"
      ]
     },
     "execution_count": 24,
     "metadata": {},
     "output_type": "execute_result"
    },
    {
     "data": {
      "image/png": "[encoded data removed]",
      "text/plain": [
       "<Figure size 432x288 with 2 Axes>"
      ]
     },
     "metadata": {
      "needs_background": "light"
     },
     "output_type": "display_data"
    }
   ],
   "source": [
    "# your code here\n",
    "import numpy as np\n",
    "\n",
    "# mean = 1/lambda\n",
    "\n",
    "def y(mean,count) :\n",
    "    return np.random.exponential(mean, count)\n",
    "\n",
    "fig, (g5,g6) = plt.subplots(1, 2, sharey=True)\n",
    "g5.hist(y(1,1000), bins=100)\n",
    "g6.hist(y(100,1000), bins=100)"
   ]
  },
  {
   "cell_type": "markdown",
   "metadata": {},
   "source": [
    "How are the two distributions different?"
   ]
  },
  {
   "cell_type": "code",
   "execution_count": 25,
   "metadata": {},
   "outputs": [
    {
     "data": {
      "text/html": [
       "<div>\n",
       "<style scoped>\n",
       "    .dataframe tbody tr th:only-of-type {\n",
       "        vertical-align: middle;\n",
       "    }\n",
       "\n",
       "    .dataframe tbody tr th {\n",
       "        vertical-align: top;\n",
       "    }\n",
       "\n",
       "    .dataframe thead th {\n",
       "        text-align: right;\n",
       "    }\n",
       "</style>\n",
       "<table border=\"1\" class=\"dataframe\">\n",
       "  <thead>\n",
       "    <tr style=\"text-align: right;\">\n",
       "      <th></th>\n",
       "      <th>Year</th>\n",
       "      <th>Engine Displacement</th>\n",
       "      <th>Cylinders</th>\n",
       "      <th>Fuel Barrels/Year</th>\n",
       "      <th>City MPG</th>\n",
       "      <th>Highway MPG</th>\n",
       "      <th>Combined MPG</th>\n",
       "      <th>CO2 Emission Grams/Mile</th>\n",
       "      <th>Fuel Cost/Year</th>\n",
       "    </tr>\n",
       "  </thead>\n",
       "  <tbody>\n",
       "    <tr>\n",
       "      <td>count</td>\n",
       "      <td>35952.00000</td>\n",
       "      <td>35952.000000</td>\n",
       "      <td>35952.000000</td>\n",
       "      <td>35952.000000</td>\n",
       "      <td>35952.000000</td>\n",
       "      <td>35952.000000</td>\n",
       "      <td>35952.000000</td>\n",
       "      <td>35952.000000</td>\n",
       "      <td>35952.000000</td>\n",
       "    </tr>\n",
       "    <tr>\n",
       "      <td>mean</td>\n",
       "      <td>2000.71640</td>\n",
       "      <td>3.338493</td>\n",
       "      <td>5.765076</td>\n",
       "      <td>17.609056</td>\n",
       "      <td>17.646139</td>\n",
       "      <td>23.880646</td>\n",
       "      <td>19.929322</td>\n",
       "      <td>475.316339</td>\n",
       "      <td>1892.598465</td>\n",
       "    </tr>\n",
       "    <tr>\n",
       "      <td>std</td>\n",
       "      <td>10.08529</td>\n",
       "      <td>1.359395</td>\n",
       "      <td>1.755268</td>\n",
       "      <td>4.467283</td>\n",
       "      <td>4.769349</td>\n",
       "      <td>5.890876</td>\n",
       "      <td>5.112409</td>\n",
       "      <td>119.060773</td>\n",
       "      <td>506.958627</td>\n",
       "    </tr>\n",
       "    <tr>\n",
       "      <td>min</td>\n",
       "      <td>1984.00000</td>\n",
       "      <td>0.600000</td>\n",
       "      <td>2.000000</td>\n",
       "      <td>0.060000</td>\n",
       "      <td>6.000000</td>\n",
       "      <td>9.000000</td>\n",
       "      <td>7.000000</td>\n",
       "      <td>37.000000</td>\n",
       "      <td>600.000000</td>\n",
       "    </tr>\n",
       "    <tr>\n",
       "      <td>25%</td>\n",
       "      <td>1991.00000</td>\n",
       "      <td>2.200000</td>\n",
       "      <td>4.000000</td>\n",
       "      <td>14.699423</td>\n",
       "      <td>15.000000</td>\n",
       "      <td>20.000000</td>\n",
       "      <td>16.000000</td>\n",
       "      <td>395.000000</td>\n",
       "      <td>1500.000000</td>\n",
       "    </tr>\n",
       "    <tr>\n",
       "      <td>50%</td>\n",
       "      <td>2001.00000</td>\n",
       "      <td>3.000000</td>\n",
       "      <td>6.000000</td>\n",
       "      <td>17.347895</td>\n",
       "      <td>17.000000</td>\n",
       "      <td>24.000000</td>\n",
       "      <td>19.000000</td>\n",
       "      <td>467.736842</td>\n",
       "      <td>1850.000000</td>\n",
       "    </tr>\n",
       "    <tr>\n",
       "      <td>75%</td>\n",
       "      <td>2010.00000</td>\n",
       "      <td>4.300000</td>\n",
       "      <td>6.000000</td>\n",
       "      <td>20.600625</td>\n",
       "      <td>20.000000</td>\n",
       "      <td>27.000000</td>\n",
       "      <td>23.000000</td>\n",
       "      <td>555.437500</td>\n",
       "      <td>2200.000000</td>\n",
       "    </tr>\n",
       "    <tr>\n",
       "      <td>max</td>\n",
       "      <td>2017.00000</td>\n",
       "      <td>8.400000</td>\n",
       "      <td>16.000000</td>\n",
       "      <td>47.087143</td>\n",
       "      <td>58.000000</td>\n",
       "      <td>61.000000</td>\n",
       "      <td>56.000000</td>\n",
       "      <td>1269.571429</td>\n",
       "      <td>5800.000000</td>\n",
       "    </tr>\n",
       "  </tbody>\n",
       "</table>\n",
       "</div>"
      ],
      "text/plain": [
       "              Year  Engine Displacement     Cylinders  Fuel Barrels/Year  \\\n",
       "count  35952.00000         35952.000000  35952.000000       35952.000000   \n",
       "mean    2000.71640             3.338493      5.765076          17.609056   \n",
       "std       10.08529             1.359395      1.755268           4.467283   \n",
       "min     1984.00000             0.600000      2.000000           0.060000   \n",
       "25%     1991.00000             2.200000      4.000000          14.699423   \n",
       "50%     2001.00000             3.000000      6.000000          17.347895   \n",
       "75%     2010.00000             4.300000      6.000000          20.600625   \n",
       "max     2017.00000             8.400000     16.000000          47.087143   \n",
       "\n",
       "           City MPG   Highway MPG  Combined MPG  CO2 Emission Grams/Mile  \\\n",
       "count  35952.000000  35952.000000  35952.000000             35952.000000   \n",
       "mean      17.646139     23.880646     19.929322               475.316339   \n",
       "std        4.769349      5.890876      5.112409               119.060773   \n",
       "min        6.000000      9.000000      7.000000                37.000000   \n",
       "25%       15.000000     20.000000     16.000000               395.000000   \n",
       "50%       17.000000     24.000000     19.000000               467.736842   \n",
       "75%       20.000000     27.000000     23.000000               555.437500   \n",
       "max       58.000000     61.000000     56.000000              1269.571429   \n",
       "\n",
       "       Fuel Cost/Year  \n",
       "count    35952.000000  \n",
       "mean      1892.598465  \n",
       "std        506.958627  \n",
       "min        600.000000  \n",
       "25%       1500.000000  \n",
       "50%       1850.000000  \n",
       "75%       2200.000000  \n",
       "max       5800.000000  "
      ]
     },
     "execution_count": 25,
     "metadata": {},
     "output_type": "execute_result"
    }
   ],
   "source": [
    "# your answer here:\n",
    "\"\"\"\n",
    "The two distributions are similar, they just have a different x axis scale, in a relation of 1 to 100, due to the means\n",
    "used to generate them.\n",
    "\"\"\""
   ]
  },
  {
   "cell_type": "markdown",
   "metadata": {},
   "source": [
    "## Exponential Distribution of Real Data\n",
    "\n",
    "Suppose that the amount of time one spends in a bank is exponentially distributed with mean as 10 minutes (i.e. λ = 1/10). What is the probability that a customer will spend less than fifteen minutes in the bank? \n",
    "\n",
    "Write a code in python to solve this problem"
   ]
  },
  {
   "cell_type": "code",
   "execution_count": 21,
   "metadata": {},
   "outputs": [
    {
     "data": {
      "text/plain": [
       "0.9816843611112658"
      ]
     },
     "execution_count": 21,
     "metadata": {},
     "output_type": "execute_result"
    }
   ],
   "source": [
    "# your answer here\n",
    "# Hint: This is same as saying P(x<15)\n",
    "from scipy.stats import expon\n",
    "expon.cdf(14, loc=10)"
   ]
  },
  {
   "cell_type": "markdown",
   "metadata": {},
   "source": [
    "What is the probability that the customer will spend more than 15 minutes"
   ]
  },
  {
   "cell_type": "code",
   "execution_count": 22,
   "metadata": {},
   "outputs": [
    {
     "data": {
      "text/plain": [
       "0.01831563888873422"
      ]
     },
     "execution_count": 22,
     "metadata": {},
     "output_type": "execute_result"
    }
   ],
   "source": [
    "# your answer here\n",
    "1-expon.cdf(14, loc=10)\n",
    "\n",
    "# exp.sf(14, loc=10)"
   ]
  },
  {
   "cell_type": "code",
   "execution_count": null,
   "metadata": {},
   "outputs": [],
   "source": []
  }
 ],
 "metadata": {
  "kernelspec": {
   "display_name": "Python 3",
   "language": "python",
   "name": "python3"
  },
  "language_info": {
   "codemirror_mode": {
    "name": "ipython",
    "version": 3
   },
   "file_extension": ".py",
   "mimetype": "text/x-python",
   "name": "python",
   "nbconvert_exporter": "python",
   "pygments_lexer": "ipython3",
   "version": "3.7.4"
  }
 },
 "nbformat": 4,
 "nbformat_minor": 2
}
